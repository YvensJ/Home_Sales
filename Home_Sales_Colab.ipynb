{
  "cells": [
    {
      "cell_type": "code",
      "execution_count": 2,
      "metadata": {
        "colab": {
          "base_uri": "https://localhost:8080/"
        },
        "id": "a_KW73O2e3dw",
        "outputId": "1ea0a1c6-9f58-4d9b-a634-08e88e317f68"
      },
      "outputs": [
        {
          "output_type": "stream",
          "name": "stdout",
          "text": [
            "\r0% [Working]\r            \rGet:1 https://cloud.r-project.org/bin/linux/ubuntu jammy-cran40/ InRelease [3,626 B]\n",
            "Get:2 https://developer.download.nvidia.com/compute/cuda/repos/ubuntu2204/x86_64  InRelease [1,581 B]\n",
            "Hit:3 http://archive.ubuntu.com/ubuntu jammy InRelease\n",
            "Get:4 http://security.ubuntu.com/ubuntu jammy-security InRelease [110 kB]\n",
            "Get:5 http://archive.ubuntu.com/ubuntu jammy-updates InRelease [119 kB]\n",
            "Get:6 https://developer.download.nvidia.com/compute/cuda/repos/ubuntu2204/x86_64  Packages [773 kB]\n",
            "Hit:7 http://archive.ubuntu.com/ubuntu jammy-backports InRelease\n",
            "Hit:8 https://ppa.launchpadcontent.net/c2d4u.team/c2d4u4.0+/ubuntu jammy InRelease\n",
            "Get:9 http://archive.ubuntu.com/ubuntu jammy-updates/universe amd64 Packages [1,356 kB]\n",
            "Hit:10 https://ppa.launchpadcontent.net/deadsnakes/ppa/ubuntu jammy InRelease\n",
            "Hit:11 https://ppa.launchpadcontent.net/graphics-drivers/ppa/ubuntu jammy InRelease\n",
            "Get:12 http://archive.ubuntu.com/ubuntu jammy-updates/restricted amd64 Packages [2,085 kB]\n",
            "Get:13 http://security.ubuntu.com/ubuntu jammy-security/main amd64 Packages [1,624 kB]\n",
            "Hit:14 https://ppa.launchpadcontent.net/ubuntugis/ppa/ubuntu jammy InRelease\n",
            "Get:15 http://archive.ubuntu.com/ubuntu jammy-updates/main amd64 Packages [1,902 kB]\n",
            "Get:16 http://security.ubuntu.com/ubuntu jammy-security/restricted amd64 Packages [2,048 kB]\n",
            "Fetched 10.0 MB in 2s (4,062 kB/s)\n",
            "Reading package lists... Done\n"
          ]
        }
      ],
      "source": [
        "import os\n",
        "# Find the latest version of spark 3.x  from http://www.apache.org/dist/spark/ and enter as the spark version\n",
        "# For example:\n",
        "# spark_version = 'spark-3.5.1'\n",
        "spark_version = 'spark-3.5.1'\n",
        "os.environ['SPARK_VERSION']=spark_version\n",
        "\n",
        "# Install Spark and Java\n",
        "!apt-get update\n",
        "!apt-get install openjdk-11-jdk-headless -qq > /dev/null\n",
        "!wget -q http://www.apache.org/dist/spark/$SPARK_VERSION/$SPARK_VERSION-bin-hadoop3.tgz\n",
        "!tar xf $SPARK_VERSION-bin-hadoop3.tgz\n",
        "!pip install -q findspark\n",
        "\n",
        "# Set Environment Variables\n",
        "os.environ[\"JAVA_HOME\"] = \"/usr/lib/jvm/java-11-openjdk-amd64\"\n",
        "os.environ[\"SPARK_HOME\"] = f\"/content/{spark_version}-bin-hadoop3\"\n",
        "\n",
        "# Start a SparkSession\n",
        "import findspark\n",
        "findspark.init()"
      ]
    },
    {
      "cell_type": "code",
      "execution_count": 3,
      "metadata": {
        "id": "2XbWNf1Te5fM"
      },
      "outputs": [],
      "source": [
        "# Import packages\n",
        "from pyspark.sql import SparkSession\n",
        "import time\n",
        "\n",
        "# Create a SparkSession\n",
        "spark = SparkSession.builder.appName(\"SparkSQL\").getOrCreate()"
      ]
    },
    {
      "cell_type": "code",
      "execution_count": 4,
      "metadata": {
        "id": "wOJqxG_RPSwp"
      },
      "outputs": [],
      "source": [
        "# 1. Read in the AWS S3 bucket into a DataFrame.\n",
        "from pyspark import SparkFiles\n",
        "url = \"https://2u-data-curriculum-team.s3.amazonaws.com/dataviz-classroom/v1.2/22-big-data/home_sales_revised.csv\"\n",
        "\n"
      ]
    },
    {
      "cell_type": "code",
      "execution_count": 5,
      "metadata": {
        "id": "RoljcJ7WPpnm",
        "colab": {
          "base_uri": "https://localhost:8080/"
        },
        "outputId": "602df6d9-cd23-4065-feb2-74c5d2437ae2"
      },
      "outputs": [
        {
          "output_type": "stream",
          "name": "stdout",
          "text": [
            "+--------------------+----------+----------+------+--------+---------+-----------+--------+------+----------+----+\n",
            "|                  id|      date|date_built| price|bedrooms|bathrooms|sqft_living|sqft_lot|floors|waterfront|view|\n",
            "+--------------------+----------+----------+------+--------+---------+-----------+--------+------+----------+----+\n",
            "|f8a53099-ba1c-47d...|2022-04-08|      2016|936923|       4|        3|       3167|   11733|     2|         1|  76|\n",
            "|7530a2d8-1ae3-451...|2021-06-13|      2013|379628|       2|        2|       2235|   14384|     1|         0|  23|\n",
            "|43de979c-0bf0-4c9...|2019-04-12|      2014|417866|       2|        2|       2127|   10575|     2|         0|   0|\n",
            "|b672c137-b88c-48b...|2019-10-16|      2016|239895|       2|        2|       1631|   11149|     2|         0|   0|\n",
            "|e0726d4d-d595-407...|2022-01-08|      2017|424418|       3|        2|       2249|   13878|     2|         0|   4|\n",
            "|5aa00529-0533-46b...|2019-01-30|      2017|218712|       2|        3|       1965|   14375|     2|         0|   7|\n",
            "|131492a1-72e2-4a8...|2020-02-08|      2017|419199|       2|        3|       2062|    8876|     2|         0|   6|\n",
            "|8d54a71b-c520-44e...|2019-07-21|      2010|323956|       2|        3|       1506|   11816|     1|         0|  25|\n",
            "|e81aacfe-17fe-46b...|2020-06-16|      2016|181925|       3|        3|       2137|   11709|     2|         0|  22|\n",
            "|2ed8d509-7372-46d...|2021-08-06|      2015|258710|       3|        3|       1918|    9666|     1|         0|  25|\n",
            "|f876d86f-3c9f-42b...|2019-02-27|      2011|167864|       3|        3|       2471|   13924|     2|         0|  15|\n",
            "|0a2bd445-8508-4d8...|2021-12-30|      2014|337527|       2|        3|       1926|   12556|     1|         0|  23|\n",
            "|941bad30-eb49-4a7...|2020-05-09|      2015|229896|       3|        3|       2197|    8641|     1|         0|   3|\n",
            "|dd61eb34-6589-4c0...|2021-07-25|      2016|210247|       3|        2|       1672|   11986|     2|         0|  28|\n",
            "|f1e4cef7-d151-439...|2019-02-01|      2011|398667|       2|        3|       2331|   11356|     1|         0|   7|\n",
            "|ea620c7b-c2f7-4c6...|2021-05-31|      2011|437958|       3|        3|       2356|   11052|     1|         0|  26|\n",
            "|f233cb41-6f33-4b0...|2021-07-18|      2016|437375|       4|        3|       1704|   11721|     2|         0|  34|\n",
            "|c797ca12-52cd-4b1...|2019-06-08|      2015|288650|       2|        3|       2100|   10419|     2|         0|   7|\n",
            "|0cfe57f3-28c2-472...|2019-10-04|      2015|308313|       3|        3|       1960|    9453|     2|         0|   2|\n",
            "|4566cd2a-ac6e-435...|2019-07-15|      2016|177541|       3|        3|       2130|   10517|     2|         0|  25|\n",
            "+--------------------+----------+----------+------+--------+---------+-----------+--------+------+----------+----+\n",
            "only showing top 20 rows\n",
            "\n"
          ]
        }
      ],
      "source": [
        "# 2. Create a temporary view of the DataFrame.\n",
        "spark.sparkContext.addFile(url)\n",
        "df = spark.read.csv(SparkFiles.get(\"home_sales_revised.csv\"), sep=\",\", header=True)\n",
        "df.show()"
      ]
    },
    {
      "cell_type": "code",
      "execution_count": 6,
      "metadata": {
        "id": "L6fkwOeOmqvq",
        "colab": {
          "base_uri": "https://localhost:8080/"
        },
        "outputId": "bb09c863-2fea-47d1-918f-59cfdbe9a4fb"
      },
      "outputs": [
        {
          "output_type": "stream",
          "name": "stdout",
          "text": [
            "+----+-------------+\n",
            "|year|average_price|\n",
            "+----+-------------+\n",
            "|2019|     300263.7|\n",
            "|2020|    298353.78|\n",
            "|2021|    301819.44|\n",
            "|2022|    296363.88|\n",
            "+----+-------------+\n",
            "\n"
          ]
        }
      ],
      "source": [
        "# 3. What is the average price for a four bedroom house sold per year, rounded to two decimal places?\n",
        "df.createOrReplaceTempView(\"home_sales\")\n",
        "\n",
        "query = \"\"\"\n",
        "        SELECT YEAR(date) AS year,\n",
        "               ROUND(AVG(price), 2) AS average_price\n",
        "        FROM home_sales\n",
        "        WHERE bedrooms = 4\n",
        "        GROUP BY YEAR(date)\n",
        "        ORDER BY YEAR(date)\n",
        "        \"\"\"\n",
        "\n",
        "avg_4bed_df = spark.sql(query)\n",
        "avg_4bed_df.show()"
      ]
    },
    {
      "cell_type": "code",
      "execution_count": 7,
      "metadata": {
        "id": "l8p_tUS8h8it",
        "colab": {
          "base_uri": "https://localhost:8080/"
        },
        "outputId": "66d8b204-424f-4067-a98f-764e949f16a2"
      },
      "outputs": [
        {
          "output_type": "stream",
          "name": "stdout",
          "text": [
            "+----+-------------+\n",
            "|year|average_price|\n",
            "+----+-------------+\n",
            "|2019|    287287.82|\n",
            "|2020|    294204.16|\n",
            "|2021|    294211.46|\n",
            "|2022|    292725.69|\n",
            "+----+-------------+\n",
            "\n"
          ]
        }
      ],
      "source": [
        "# 4. What is the average price of a home for each year the home was built,\n",
        "# that have 3 bedrooms and 3 bathrooms, rounded to two decimal places?\n",
        "query = \"\"\"\n",
        "        SELECT YEAR(date) AS year,\n",
        "               ROUND(AVG(price), 2) AS average_price\n",
        "        FROM home_sales\n",
        "        WHERE bedrooms = 3 AND bathrooms = 3\n",
        "        GROUP BY YEAR(date)\n",
        "        ORDER BY YEAR(date)\n",
        "        \"\"\"\n",
        "avg_3bed3bath_df = spark.sql(query)\n",
        "avg_3bed3bath_df.show()"
      ]
    },
    {
      "cell_type": "code",
      "execution_count": 8,
      "metadata": {
        "id": "Y-Eytz64liDU",
        "colab": {
          "base_uri": "https://localhost:8080/"
        },
        "outputId": "e44df77f-9c44-4f57-c9a6-11e4ed02ac93"
      },
      "outputs": [
        {
          "output_type": "stream",
          "name": "stdout",
          "text": [
            "+----+-------------+\n",
            "|year|average_price|\n",
            "+----+-------------+\n",
            "|2019|    289859.14|\n",
            "|2020|    292289.09|\n",
            "|2021|    296330.96|\n",
            "|2022|    290242.99|\n",
            "+----+-------------+\n",
            "\n"
          ]
        }
      ],
      "source": [
        "# 5. What is the average price of a home for each year the home was built,\n",
        "# that have 3 bedrooms, 3 bathrooms, with two floors,\n",
        "# and are greater than or equal to 2,000 square feet, rounded to two decimal places?\n",
        "query = \"\"\"\n",
        "        SELECT YEAR(date) AS year,\n",
        "               ROUND(AVG(price), 2) AS average_price\n",
        "        FROM home_sales\n",
        "        WHERE bedrooms = 3 AND bathrooms = 3 AND floors = 2 AND sqft_living >= 2000\n",
        "        GROUP BY YEAR(date)\n",
        "        ORDER BY YEAR(date)\n",
        "        \"\"\"\n",
        "\n",
        "avg_3bed3bath_2floor_df = spark.sql(query)\n",
        "avg_3bed3bath_2floor_df.show()"
      ]
    },
    {
      "cell_type": "code",
      "execution_count": 12,
      "metadata": {
        "colab": {
          "base_uri": "https://localhost:8080/"
        },
        "id": "GUrfgOX1pCRd",
        "outputId": "36c73f3f-09ea-4fa9-bcbd-3b09acedd0a4"
      },
      "outputs": [
        {
          "output_type": "stream",
          "name": "stdout",
          "text": [
            "+----+-------------+\n",
            "|view|average_price|\n",
            "+----+-------------+\n",
            "|  99|   1061201.42|\n",
            "|  98|   1053739.33|\n",
            "|  97|   1129040.15|\n",
            "|  96|   1017815.92|\n",
            "|  95|    1054325.6|\n",
            "|  94|    1033536.2|\n",
            "|  93|   1026006.06|\n",
            "|  92|    970402.55|\n",
            "|  91|   1137372.73|\n",
            "|  90|   1062654.16|\n",
            "|  89|   1107839.15|\n",
            "|  88|   1031719.35|\n",
            "|  87|    1072285.2|\n",
            "|  86|   1070444.25|\n",
            "|  85|   1056336.74|\n",
            "|  84|   1117233.13|\n",
            "|  83|   1033965.93|\n",
            "|  82|    1063498.0|\n",
            "|  81|   1053472.79|\n",
            "|  80|    991767.38|\n",
            "+----+-------------+\n",
            "only showing top 20 rows\n",
            "\n",
            "--- 1.3659772872924805 seconds ---\n"
          ]
        }
      ],
      "source": [
        "# 6. What is the average price of a home per \"view\" rating, rounded to two decimal places,\n",
        "# having an average home price greater than or equal to $350,000? Order by descending view rating.\n",
        "# Although this is a small dataset, determine the run time for this query.\n",
        "\n",
        "start_time = time.time()\n",
        "# Create query\n",
        "query = \"\"\"\n",
        "        SELECT view,\n",
        "               ROUND(AVG(price), 2) AS average_price\n",
        "        FROM home_sales\n",
        "        GROUP BY view\n",
        "        HAVING AVG(price) >= 350000\n",
        "        ORDER BY view DESC\n",
        "        \"\"\"\n",
        "# Excute query, store in a DataFrame and then Show Dataframe\n",
        "avg_perView_df = spark.sql(query)\n",
        "avg_perView_df.show()\n",
        "\n",
        "print(\"--- %s seconds ---\" % (time.time() - start_time))"
      ]
    },
    {
      "cell_type": "code",
      "execution_count": 13,
      "metadata": {
        "id": "KAhk3ZD2tFy8"
      },
      "outputs": [],
      "source": [
        "# 7. Cache the the temporary table home_sales.\n",
        "spark.catalog.cacheTable(\"home_sales\")"
      ]
    },
    {
      "cell_type": "code",
      "execution_count": 14,
      "metadata": {
        "id": "4opVhbvxtL-i",
        "colab": {
          "base_uri": "https://localhost:8080/"
        },
        "outputId": "fb1a7b57-0114-4b4f-a214-f070b7f07bec"
      },
      "outputs": [
        {
          "output_type": "execute_result",
          "data": {
            "text/plain": [
              "True"
            ]
          },
          "metadata": {},
          "execution_count": 14
        }
      ],
      "source": [
        "# 8. Check if the table is cached.\n",
        "spark.catalog.isCached('home_sales')"
      ]
    },
    {
      "cell_type": "code",
      "execution_count": 16,
      "metadata": {
        "colab": {
          "base_uri": "https://localhost:8080/"
        },
        "id": "5GnL46lwTSEk",
        "outputId": "d6280e5a-82f9-49c7-d88d-28bcd9af60bb"
      },
      "outputs": [
        {
          "output_type": "stream",
          "name": "stdout",
          "text": [
            "+----+-------------+\n",
            "|view|average_price|\n",
            "+----+-------------+\n",
            "|  99|   1061201.42|\n",
            "|  98|   1053739.33|\n",
            "|  97|   1129040.15|\n",
            "|  96|   1017815.92|\n",
            "|  95|    1054325.6|\n",
            "|  94|    1033536.2|\n",
            "|  93|   1026006.06|\n",
            "|  92|    970402.55|\n",
            "|  91|   1137372.73|\n",
            "|  90|   1062654.16|\n",
            "|  89|   1107839.15|\n",
            "|  88|   1031719.35|\n",
            "|  87|    1072285.2|\n",
            "|  86|   1070444.25|\n",
            "|  85|   1056336.74|\n",
            "|  84|   1117233.13|\n",
            "|  83|   1033965.93|\n",
            "|  82|    1063498.0|\n",
            "|  81|   1053472.79|\n",
            "|  80|    991767.38|\n",
            "+----+-------------+\n",
            "only showing top 20 rows\n",
            "\n",
            "--- 2.0925469398498535 seconds ---\n"
          ]
        }
      ],
      "source": [
        "# 9. Using the cached data, run the last query above, that calculates\n",
        "# the average price of a home per \"view\" rating, rounded to two decimal places,\n",
        "# having an average home price greater than or equal to $350,000.\n",
        "# Determine the runtime and compare it to the uncached runtime.\n",
        "\n",
        "start_time = time.time()\n",
        "# Create query\n",
        "query_cached = \"\"\"\n",
        "               SELECT view,\n",
        "                      ROUND(AVG(price), 2) AS average_price\n",
        "               FROM home_sales\n",
        "               GROUP BY view\n",
        "               HAVING AVG(price) >= 350000\n",
        "               ORDER BY view DESC\n",
        "               \"\"\"\n",
        "# Excute query, store in a DataFrame and then Show Dataframe\n",
        "avg_perView2_df = spark.sql(query_cached)\n",
        "avg_perView2_df.show()\n",
        "\n",
        "print(\"--- %s seconds ---\" % (time.time() - start_time))\n"
      ]
    },
    {
      "cell_type": "code",
      "execution_count": 17,
      "metadata": {
        "id": "Qm12WN9isHBR"
      },
      "outputs": [],
      "source": [
        "# 10. Partition by the \"date_built\" field on the formatted parquet home sales data\n",
        "output_dir = \"partitioned_home_sales_parquet\"\n",
        "\n",
        "df.write.partitionBy(\"date_built\").parquet(output_dir)"
      ]
    },
    {
      "cell_type": "code",
      "execution_count": 19,
      "metadata": {
        "id": "AZ7BgY61sRqY"
      },
      "outputs": [],
      "source": [
        "# 11. Read the parquet formatted data.\n",
        "input_dir = \"partitioned_home_sales_parquet\"\n",
        "partitioned_df = spark.read.parquet(input_dir)"
      ]
    },
    {
      "cell_type": "code",
      "execution_count": 20,
      "metadata": {
        "id": "J6MJkHfvVcvh"
      },
      "outputs": [],
      "source": [
        "# 12. Create a temporary table for the parquet data.\n",
        "partitioned_df.createOrReplaceTempView(\"partitioned_home_sales\")"
      ]
    },
    {
      "cell_type": "code",
      "execution_count": 21,
      "metadata": {
        "colab": {
          "base_uri": "https://localhost:8080/"
        },
        "id": "G_Vhb52rU1Sn",
        "outputId": "9f4d72d1-4795-43fe-9b29-d22ab4bfc9ff"
      },
      "outputs": [
        {
          "output_type": "stream",
          "name": "stdout",
          "text": [
            "+----+-------------+\n",
            "|view|average_price|\n",
            "+----+-------------+\n",
            "|  99|   1061201.42|\n",
            "|  98|   1053739.33|\n",
            "|  97|   1129040.15|\n",
            "|  96|   1017815.92|\n",
            "|  95|    1054325.6|\n",
            "|  94|    1033536.2|\n",
            "|  93|   1026006.06|\n",
            "|  92|    970402.55|\n",
            "|  91|   1137372.73|\n",
            "|  90|   1062654.16|\n",
            "|  89|   1107839.15|\n",
            "|  88|   1031719.35|\n",
            "|  87|    1072285.2|\n",
            "|  86|   1070444.25|\n",
            "|  85|   1056336.74|\n",
            "|  84|   1117233.13|\n",
            "|  83|   1033965.93|\n",
            "|  82|    1063498.0|\n",
            "|  81|   1053472.79|\n",
            "|  80|    991767.38|\n",
            "+----+-------------+\n",
            "only showing top 20 rows\n",
            "\n",
            "--- 1.1388213634490967 seconds ---\n"
          ]
        }
      ],
      "source": [
        "# 13. Using the parquet DataFrame, run the last query above, that calculates\n",
        "# the average price of a home per \"view\" rating, rounded to two decimal places,\n",
        "# having an average home price greater than or equal to $350,000.\n",
        "# Determine the runtime and compare it to the cached runtime.\n",
        "\n",
        "start_time = time.time()\n",
        "\n",
        "# Create query\n",
        "query_parquet = \"\"\"\n",
        "                SELECT view,\n",
        "                       ROUND(AVG(price), 2) AS average_price\n",
        "                FROM partitioned_home_sales\n",
        "                GROUP BY view\n",
        "                HAVING AVG(price) >= 350000\n",
        "                ORDER BY view DESC\n",
        "                \"\"\"\n",
        "\n",
        "# Excute query, store in a DataFrame and then Show Dataframe\n",
        "avg_perView_parquet_df = spark.sql(query_parquet)\n",
        "avg_perView_parquet_df.show()\n",
        "\n",
        "print(\"--- %s seconds ---\" % (time.time() - start_time))"
      ]
    },
    {
      "cell_type": "code",
      "execution_count": 22,
      "metadata": {
        "id": "hjjYzQGjtbq8"
      },
      "outputs": [],
      "source": [
        "# 14. Uncache the home_sales temporary table.\n",
        "spark.catalog.uncacheTable(\"home_sales\")"
      ]
    },
    {
      "cell_type": "code",
      "execution_count": 23,
      "metadata": {
        "id": "Sy9NBvO7tlmm",
        "colab": {
          "base_uri": "https://localhost:8080/"
        },
        "outputId": "2d0914f3-2e94-465e-db04-5adec95f3598"
      },
      "outputs": [
        {
          "output_type": "execute_result",
          "data": {
            "text/plain": [
              "False"
            ]
          },
          "metadata": {},
          "execution_count": 23
        }
      ],
      "source": [
        "# 15. Check if the home_sales is no longer cached\n",
        "spark.catalog.isCached(\"home_sales\")\n"
      ]
    },
    {
      "cell_type": "code",
      "execution_count": null,
      "metadata": {
        "id": "Si-BNruRUGK3"
      },
      "outputs": [],
      "source": []
    }
  ],
  "metadata": {
    "colab": {
      "provenance": []
    },
    "gpuClass": "standard",
    "kernelspec": {
      "display_name": "Python 3 (ipykernel)",
      "language": "python",
      "name": "python3"
    },
    "language_info": {
      "codemirror_mode": {
        "name": "ipython",
        "version": 3
      },
      "file_extension": ".py",
      "mimetype": "text/x-python",
      "name": "python",
      "nbconvert_exporter": "python",
      "pygments_lexer": "ipython3",
      "version": "3.10.4"
    },
    "nteract": {
      "version": "0.28.0"
    }
  },
  "nbformat": 4,
  "nbformat_minor": 0
}